{
 "cells": [
  {
   "cell_type": "code",
   "execution_count": 1,
   "id": "cb60ca2d",
   "metadata": {},
   "outputs": [],
   "source": [
    "# import pandas\n",
    "\n",
    "import pandas as pd"
   ]
  },
  {
   "cell_type": "code",
   "execution_count": 2,
   "id": "377761f7",
   "metadata": {},
   "outputs": [
    {
     "data": {
      "text/html": [
       "<div>\n",
       "<style scoped>\n",
       "    .dataframe tbody tr th:only-of-type {\n",
       "        vertical-align: middle;\n",
       "    }\n",
       "\n",
       "    .dataframe tbody tr th {\n",
       "        vertical-align: top;\n",
       "    }\n",
       "\n",
       "    .dataframe thead th {\n",
       "        text-align: right;\n",
       "    }\n",
       "</style>\n",
       "<table border=\"1\" class=\"dataframe\">\n",
       "  <thead>\n",
       "    <tr style=\"text-align: right;\">\n",
       "      <th></th>\n",
       "      <th>num</th>\n",
       "    </tr>\n",
       "  </thead>\n",
       "  <tbody>\n",
       "    <tr>\n",
       "      <th>0</th>\n",
       "      <td>1992</td>\n",
       "    </tr>\n",
       "  </tbody>\n",
       "</table>\n",
       "</div>"
      ],
      "text/plain": [
       "    num\n",
       "0  1992"
      ]
     },
     "execution_count": 2,
     "metadata": {},
     "output_type": "execute_result"
    }
   ],
   "source": [
    "# sample test input\n",
    "\n",
    "df = pd.DataFrame({'num' : ['1992']})\n",
    "\n",
    "df"
   ]
  },
  {
   "cell_type": "code",
   "execution_count": 3,
   "id": "a18fca81",
   "metadata": {},
   "outputs": [
    {
     "data": {
      "text/html": [
       "<div>\n",
       "<style scoped>\n",
       "    .dataframe tbody tr th:only-of-type {\n",
       "        vertical-align: middle;\n",
       "    }\n",
       "\n",
       "    .dataframe tbody tr th {\n",
       "        vertical-align: top;\n",
       "    }\n",
       "\n",
       "    .dataframe thead th {\n",
       "        text-align: right;\n",
       "    }\n",
       "</style>\n",
       "<table border=\"1\" class=\"dataframe\">\n",
       "  <thead>\n",
       "    <tr style=\"text-align: right;\">\n",
       "      <th></th>\n",
       "      <th>num</th>\n",
       "    </tr>\n",
       "  </thead>\n",
       "  <tbody>\n",
       "    <tr>\n",
       "      <th>0</th>\n",
       "      <td>1992</td>\n",
       "    </tr>\n",
       "  </tbody>\n",
       "</table>\n",
       "</div>"
      ],
      "text/plain": [
       "    num\n",
       "0  1992"
      ]
     },
     "execution_count": 3,
     "metadata": {},
     "output_type": "execute_result"
    }
   ],
   "source": [
    "# padding number\n",
    "\n",
    "df['num'] = df['num'].str.ljust(4, '0')\n",
    "\n",
    "df"
   ]
  },
  {
   "cell_type": "code",
   "execution_count": 4,
   "id": "86a97865",
   "metadata": {},
   "outputs": [
    {
     "data": {
      "text/html": [
       "<div>\n",
       "<style scoped>\n",
       "    .dataframe tbody tr th:only-of-type {\n",
       "        vertical-align: middle;\n",
       "    }\n",
       "\n",
       "    .dataframe tbody tr th {\n",
       "        vertical-align: top;\n",
       "    }\n",
       "\n",
       "    .dataframe thead th {\n",
       "        text-align: right;\n",
       "    }\n",
       "</style>\n",
       "<table border=\"1\" class=\"dataframe\">\n",
       "  <thead>\n",
       "    <tr style=\"text-align: right;\">\n",
       "      <th></th>\n",
       "      <th>0</th>\n",
       "      <th>1</th>\n",
       "      <th>2</th>\n",
       "      <th>3</th>\n",
       "    </tr>\n",
       "  </thead>\n",
       "  <tbody>\n",
       "    <tr>\n",
       "      <th>0</th>\n",
       "      <td>1</td>\n",
       "      <td>9</td>\n",
       "      <td>9</td>\n",
       "      <td>2</td>\n",
       "    </tr>\n",
       "  </tbody>\n",
       "</table>\n",
       "</div>"
      ],
      "text/plain": [
       "   0  1  2  3\n",
       "0  1  9  9  2"
      ]
     },
     "execution_count": 4,
     "metadata": {},
     "output_type": "execute_result"
    }
   ],
   "source": [
    "df['num'].apply(lambda x: pd.Series(list(x))) # example of splitting to columns\n",
    "\n",
    "# as opposed pd.Series((df['num'].apply(list))) - this turns the entire result into a series, whereas the above creates a series after each iteration"
   ]
  },
  {
   "cell_type": "code",
   "execution_count": 5,
   "id": "73721096",
   "metadata": {},
   "outputs": [
    {
     "data": {
      "text/html": [
       "<div>\n",
       "<style scoped>\n",
       "    .dataframe tbody tr th:only-of-type {\n",
       "        vertical-align: middle;\n",
       "    }\n",
       "\n",
       "    .dataframe tbody tr th {\n",
       "        vertical-align: top;\n",
       "    }\n",
       "\n",
       "    .dataframe thead th {\n",
       "        text-align: right;\n",
       "    }\n",
       "</style>\n",
       "<table border=\"1\" class=\"dataframe\">\n",
       "  <thead>\n",
       "    <tr style=\"text-align: right;\">\n",
       "      <th></th>\n",
       "      <th>num</th>\n",
       "    </tr>\n",
       "  </thead>\n",
       "  <tbody>\n",
       "    <tr>\n",
       "      <th>0</th>\n",
       "      <td>1</td>\n",
       "    </tr>\n",
       "    <tr>\n",
       "      <th>1</th>\n",
       "      <td>9</td>\n",
       "    </tr>\n",
       "    <tr>\n",
       "      <th>2</th>\n",
       "      <td>9</td>\n",
       "    </tr>\n",
       "    <tr>\n",
       "      <th>3</th>\n",
       "      <td>2</td>\n",
       "    </tr>\n",
       "  </tbody>\n",
       "</table>\n",
       "</div>"
      ],
      "text/plain": [
       "  num\n",
       "0   1\n",
       "1   9\n",
       "2   9\n",
       "3   2"
      ]
     },
     "execution_count": 5,
     "metadata": {},
     "output_type": "execute_result"
    }
   ],
   "source": [
    "# splitting num to digits\n",
    "\n",
    "df_split = df['num'].apply(list).explode().reset_index().drop(columns = ['index'])\n",
    "\n",
    "df_split"
   ]
  },
  {
   "cell_type": "code",
   "execution_count": 6,
   "id": "6d6835d9",
   "metadata": {},
   "outputs": [
    {
     "data": {
      "text/plain": [
       "'1992'"
      ]
     },
     "execution_count": 6,
     "metadata": {},
     "output_type": "execute_result"
    }
   ],
   "source": [
    "(''.join(df_split['num']))"
   ]
  },
  {
   "cell_type": "code",
   "execution_count": 7,
   "id": "6bab41d6",
   "metadata": {},
   "outputs": [],
   "source": [
    "def Kaprekar_func(num_split):\n",
    "    \n",
    "    iteration_number = 0\n",
    "    new_num = int(''.join(num_split))\n",
    "    \n",
    "    while new_num != 6174:\n",
    "    \n",
    "        num_descending = num_split.sort_values(ascending = False)\n",
    "        num_ascending = num_split.sort_values()\n",
    "\n",
    "        concat_descending = ''.join(num_descending)\n",
    "        concat_ascending = ''.join(num_ascending)\n",
    "\n",
    "        new_num = int(concat_descending) - int(concat_ascending)\n",
    "        \n",
    "        num_split = pd.Series([(digit) for digit in str(new_num).zfill(4)])\n",
    "        \n",
    "        iteration_number += 1\n",
    "        \n",
    "        print (f\"iteration : {iteration_number}, num_split : {num_split}, new_num : {new_num}\")\n",
    "    \n",
    "    return (f\"iteration : {iteration_number}, num_split : {num_split}, new_num : {new_num}\")\n",
    "    \n",
    "    "
   ]
  },
  {
   "cell_type": "code",
   "execution_count": 8,
   "id": "1aa283a4",
   "metadata": {},
   "outputs": [
    {
     "name": "stdout",
     "output_type": "stream",
     "text": [
      "iteration : 1, num_split : 0    8\n",
      "1    6\n",
      "2    2\n",
      "3    2\n",
      "dtype: object, new_num : 8622\n",
      "iteration : 2, num_split : 0    6\n",
      "1    3\n",
      "2    5\n",
      "3    4\n",
      "dtype: object, new_num : 6354\n",
      "iteration : 3, num_split : 0    3\n",
      "1    0\n",
      "2    8\n",
      "3    7\n",
      "dtype: object, new_num : 3087\n",
      "iteration : 4, num_split : 0    8\n",
      "1    3\n",
      "2    5\n",
      "3    2\n",
      "dtype: object, new_num : 8352\n",
      "iteration : 5, num_split : 0    6\n",
      "1    1\n",
      "2    7\n",
      "3    4\n",
      "dtype: object, new_num : 6174\n"
     ]
    },
    {
     "data": {
      "text/plain": [
       "'iteration : 5, num_split : 0    6\\n1    1\\n2    7\\n3    4\\ndtype: object, new_num : 6174'"
      ]
     },
     "execution_count": 8,
     "metadata": {},
     "output_type": "execute_result"
    }
   ],
   "source": [
    "Kaprekar_func(df_split['num'])"
   ]
  },
  {
   "cell_type": "code",
   "execution_count": null,
   "id": "69dfc49c",
   "metadata": {},
   "outputs": [],
   "source": []
  }
 ],
 "metadata": {
  "kernelspec": {
   "display_name": "Python 3 (ipykernel)",
   "language": "python",
   "name": "python3"
  },
  "language_info": {
   "codemirror_mode": {
    "name": "ipython",
    "version": 3
   },
   "file_extension": ".py",
   "mimetype": "text/x-python",
   "name": "python",
   "nbconvert_exporter": "python",
   "pygments_lexer": "ipython3",
   "version": "3.11.5"
  }
 },
 "nbformat": 4,
 "nbformat_minor": 5
}
