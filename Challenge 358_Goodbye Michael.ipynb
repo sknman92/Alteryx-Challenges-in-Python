{
 "cells": [
  {
   "cell_type": "code",
   "execution_count": 1,
   "id": "55c10a2e",
   "metadata": {},
   "outputs": [],
   "source": [
    "# importing pandas and regex\n",
    " \n",
    "import pandas as pd\n",
    "import re"
   ]
  },
  {
   "cell_type": "code",
   "execution_count": 3,
   "id": "374c243d",
   "metadata": {},
   "outputs": [],
   "source": [
    "# importing data\n",
    "\n",
    "df = pd.read_excel('./data.xlsx')"
   ]
  },
  {
   "cell_type": "code",
   "execution_count": 5,
   "id": "667107fd",
   "metadata": {},
   "outputs": [
    {
     "data": {
      "text/html": [
       "<div>\n",
       "<style scoped>\n",
       "    .dataframe tbody tr th:only-of-type {\n",
       "        vertical-align: middle;\n",
       "    }\n",
       "\n",
       "    .dataframe tbody tr th {\n",
       "        vertical-align: top;\n",
       "    }\n",
       "\n",
       "    .dataframe thead th {\n",
       "        text-align: right;\n",
       "    }\n",
       "</style>\n",
       "<table border=\"1\" class=\"dataframe\">\n",
       "  <thead>\n",
       "    <tr style=\"text-align: right;\">\n",
       "      <th></th>\n",
       "      <th>season</th>\n",
       "      <th>episode</th>\n",
       "      <th>title</th>\n",
       "      <th>scene</th>\n",
       "      <th>character</th>\n",
       "      <th>line</th>\n",
       "    </tr>\n",
       "  </thead>\n",
       "  <tbody>\n",
       "    <tr>\n",
       "      <th>0</th>\n",
       "      <td>1</td>\n",
       "      <td>1</td>\n",
       "      <td>Pilot</td>\n",
       "      <td>1</td>\n",
       "      <td>Michael</td>\n",
       "      <td>All right Jim. Your quarterlies look very good...</td>\n",
       "    </tr>\n",
       "    <tr>\n",
       "      <th>1</th>\n",
       "      <td>1</td>\n",
       "      <td>1</td>\n",
       "      <td>Pilot</td>\n",
       "      <td>1</td>\n",
       "      <td>Jim</td>\n",
       "      <td>Oh, I told you. I couldn't close it. So...</td>\n",
       "    </tr>\n",
       "    <tr>\n",
       "      <th>2</th>\n",
       "      <td>1</td>\n",
       "      <td>1</td>\n",
       "      <td>Pilot</td>\n",
       "      <td>1</td>\n",
       "      <td>Michael</td>\n",
       "      <td>So you've come to the master for guidance? Is ...</td>\n",
       "    </tr>\n",
       "    <tr>\n",
       "      <th>3</th>\n",
       "      <td>1</td>\n",
       "      <td>1</td>\n",
       "      <td>Pilot</td>\n",
       "      <td>1</td>\n",
       "      <td>Jim</td>\n",
       "      <td>Actually, you called me in here, but yeah.</td>\n",
       "    </tr>\n",
       "    <tr>\n",
       "      <th>4</th>\n",
       "      <td>1</td>\n",
       "      <td>1</td>\n",
       "      <td>Pilot</td>\n",
       "      <td>1</td>\n",
       "      <td>Michael</td>\n",
       "      <td>All right. Well, let me show you how it's done.</td>\n",
       "    </tr>\n",
       "  </tbody>\n",
       "</table>\n",
       "</div>"
      ],
      "text/plain": [
       "   season  episode  title  scene character  \\\n",
       "0       1        1  Pilot      1   Michael   \n",
       "1       1        1  Pilot      1       Jim   \n",
       "2       1        1  Pilot      1   Michael   \n",
       "3       1        1  Pilot      1       Jim   \n",
       "4       1        1  Pilot      1   Michael   \n",
       "\n",
       "                                                line  \n",
       "0  All right Jim. Your quarterlies look very good...  \n",
       "1         Oh, I told you. I couldn't close it. So...  \n",
       "2  So you've come to the master for guidance? Is ...  \n",
       "3         Actually, you called me in here, but yeah.  \n",
       "4    All right. Well, let me show you how it's done.  "
      ]
     },
     "execution_count": 5,
     "metadata": {},
     "output_type": "execute_result"
    }
   ],
   "source": [
    "df.head()"
   ]
  },
  {
   "cell_type": "code",
   "execution_count": 20,
   "id": "e510e05f",
   "metadata": {},
   "outputs": [
    {
     "data": {
      "text/html": [
       "<div>\n",
       "<style scoped>\n",
       "    .dataframe tbody tr th:only-of-type {\n",
       "        vertical-align: middle;\n",
       "    }\n",
       "\n",
       "    .dataframe tbody tr th {\n",
       "        vertical-align: top;\n",
       "    }\n",
       "\n",
       "    .dataframe thead th {\n",
       "        text-align: right;\n",
       "    }\n",
       "</style>\n",
       "<table border=\"1\" class=\"dataframe\">\n",
       "  <thead>\n",
       "    <tr style=\"text-align: right;\">\n",
       "      <th></th>\n",
       "      <th>season</th>\n",
       "      <th>episode</th>\n",
       "      <th>title</th>\n",
       "      <th>scene</th>\n",
       "      <th>character</th>\n",
       "      <th>line</th>\n",
       "    </tr>\n",
       "  </thead>\n",
       "  <tbody>\n",
       "    <tr>\n",
       "      <th>0</th>\n",
       "      <td>1</td>\n",
       "      <td>1</td>\n",
       "      <td>Pilot</td>\n",
       "      <td>1</td>\n",
       "      <td>Michael</td>\n",
       "      <td>All right Jim. Your quarterlies look very good...</td>\n",
       "    </tr>\n",
       "    <tr>\n",
       "      <th>2</th>\n",
       "      <td>1</td>\n",
       "      <td>1</td>\n",
       "      <td>Pilot</td>\n",
       "      <td>1</td>\n",
       "      <td>Michael</td>\n",
       "      <td>So you've come to the master for guidance? Is ...</td>\n",
       "    </tr>\n",
       "    <tr>\n",
       "      <th>4</th>\n",
       "      <td>1</td>\n",
       "      <td>1</td>\n",
       "      <td>Pilot</td>\n",
       "      <td>1</td>\n",
       "      <td>Michael</td>\n",
       "      <td>All right. Well, let me show you how it's done.</td>\n",
       "    </tr>\n",
       "    <tr>\n",
       "      <th>5</th>\n",
       "      <td>1</td>\n",
       "      <td>1</td>\n",
       "      <td>Pilot</td>\n",
       "      <td>2</td>\n",
       "      <td>Michael</td>\n",
       "      <td>Yes, I'd like to speak to your office manager,...</td>\n",
       "    </tr>\n",
       "    <tr>\n",
       "      <th>6</th>\n",
       "      <td>1</td>\n",
       "      <td>1</td>\n",
       "      <td>Pilot</td>\n",
       "      <td>3</td>\n",
       "      <td>Michael</td>\n",
       "      <td>I've, uh, I've been at Dunder Mifflin for 12 y...</td>\n",
       "    </tr>\n",
       "  </tbody>\n",
       "</table>\n",
       "</div>"
      ],
      "text/plain": [
       "   season  episode  title  scene character  \\\n",
       "0       1        1  Pilot      1   Michael   \n",
       "2       1        1  Pilot      1   Michael   \n",
       "4       1        1  Pilot      1   Michael   \n",
       "5       1        1  Pilot      2   Michael   \n",
       "6       1        1  Pilot      3   Michael   \n",
       "\n",
       "                                                line  \n",
       "0  All right Jim. Your quarterlies look very good...  \n",
       "2  So you've come to the master for guidance? Is ...  \n",
       "4    All right. Well, let me show you how it's done.  \n",
       "5  Yes, I'd like to speak to your office manager,...  \n",
       "6  I've, uh, I've been at Dunder Mifflin for 12 y...  "
      ]
     },
     "execution_count": 20,
     "metadata": {},
     "output_type": "execute_result"
    }
   ],
   "source": [
    "# filtering to character Michael\n",
    "\n",
    "df_filtered = df.loc[df['character'].str.contains('Michael', case = False)]\n",
    "\n",
    "df_filtered.head()"
   ]
  },
  {
   "cell_type": "code",
   "execution_count": 21,
   "id": "5fa8910d",
   "metadata": {},
   "outputs": [
    {
     "data": {
      "text/plain": [
       "8"
      ]
     },
     "execution_count": 21,
     "metadata": {},
     "output_type": "execute_result"
    }
   ],
   "source": [
    "# Determine in how many seasons the character Michael appeared\n",
    "\n",
    "df_filtered['season'].nunique()"
   ]
  },
  {
   "cell_type": "code",
   "execution_count": 22,
   "id": "0fa4abc7",
   "metadata": {},
   "outputs": [
    {
     "data": {
      "text/plain": [
       "137"
      ]
     },
     "execution_count": 22,
     "metadata": {},
     "output_type": "execute_result"
    }
   ],
   "source": [
    "# Determine in how many episodes the character Michael appeared\n",
    "\n",
    "df_filtered.groupby('season')['episode']\\\n",
    ".nunique()\\\n",
    ".sum()"
   ]
  },
  {
   "cell_type": "code",
   "execution_count": 23,
   "id": "f565dafd",
   "metadata": {},
   "outputs": [
    {
     "data": {
      "text/plain": [
       "line    10904\n",
       "dtype: int64"
      ]
     },
     "execution_count": 23,
     "metadata": {},
     "output_type": "execute_result"
    }
   ],
   "source": [
    "# Find out, based on the provided dataset, how many lines the character Michael had\n",
    "\n",
    "df_filtered.agg({'line' : 'count'})"
   ]
  },
  {
   "cell_type": "code",
   "execution_count": 36,
   "id": "12ea0853",
   "metadata": {},
   "outputs": [
    {
     "data": {
      "text/plain": [
       "147906"
      ]
     },
     "execution_count": 36,
     "metadata": {},
     "output_type": "execute_result"
    }
   ],
   "source": [
    "# Find out, based on the provided dataset, how many words the character Michael had\n",
    "\n",
    "df_filtered['line'].apply(lambda x: re.split(r'[\\s]+', x)).explode().count()"
   ]
  },
  {
   "cell_type": "code",
   "execution_count": 66,
   "id": "447bc969",
   "metadata": {},
   "outputs": [
    {
     "name": "stderr",
     "output_type": "stream",
     "text": [
      "C:\\Users\\CharlesYi\\AppData\\Local\\Temp\\ipykernel_32520\\888963290.py:8: FutureWarning: Calling int on a single element Series is deprecated and will raise a TypeError in the future. Use int(ser.iloc[0]) instead\n",
      "  lines = int(x_filtered.agg({'line' : 'count'}))\n"
     ]
    }
   ],
   "source": [
    "# doing this all in a function\n",
    "\n",
    "def answers(x):\n",
    "    x_filtered = x.loc[x['character'].str.contains('Michael', case = False)]\n",
    "    \n",
    "    seasons = x_filtered['season'].nunique()\n",
    "    episodes = x_filtered.groupby('season')['episode'].nunique().sum()\n",
    "    lines = int(x_filtered.agg({'line' : 'count'}))\n",
    "    words = x_filtered['line'].apply(lambda line: re.split(r'[\\s]+', line)).explode().count()\n",
    "    \n",
    "    result = (f'number of seasons: {seasons}\\n'\n",
    "            f'number of episodes: {episodes}\\n'\n",
    "            f'number of lines: {lines}\\n'\n",
    "            f'number of words: {words}'\n",
    "           )\n",
    "    \n",
    "    return result\n",
    "\n",
    "output = answers(df)"
   ]
  },
  {
   "cell_type": "code",
   "execution_count": 67,
   "id": "a3513a9f",
   "metadata": {},
   "outputs": [
    {
     "name": "stdout",
     "output_type": "stream",
     "text": [
      "number of seasons: 8\n",
      "number of episodes: 137\n",
      "number of lines: 10904\n",
      "number of words: 147906\n"
     ]
    }
   ],
   "source": [
    "print(output)"
   ]
  },
  {
   "cell_type": "code",
   "execution_count": null,
   "id": "b5b65319",
   "metadata": {},
   "outputs": [],
   "source": []
  }
 ],
 "metadata": {
  "kernelspec": {
   "display_name": "Python 3 (ipykernel)",
   "language": "python",
   "name": "python3"
  },
  "language_info": {
   "codemirror_mode": {
    "name": "ipython",
    "version": 3
   },
   "file_extension": ".py",
   "mimetype": "text/x-python",
   "name": "python",
   "nbconvert_exporter": "python",
   "pygments_lexer": "ipython3",
   "version": "3.11.5"
  }
 },
 "nbformat": 4,
 "nbformat_minor": 5
}
