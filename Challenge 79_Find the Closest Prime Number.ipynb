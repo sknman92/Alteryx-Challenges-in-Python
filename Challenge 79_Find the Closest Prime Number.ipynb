{
 "cells": [
  {
   "cell_type": "code",
   "execution_count": 36,
   "id": "c929e97a",
   "metadata": {},
   "outputs": [],
   "source": [
    "# importing libraries\n",
    "\n",
    "import pandas as pd\n",
    "import numpy as np\n",
    "import re"
   ]
  },
  {
   "cell_type": "code",
   "execution_count": 74,
   "id": "1cb2c01c",
   "metadata": {},
   "outputs": [],
   "source": [
    "def prime_number_finder (value):\n",
    "    \n",
    "    mod = []\n",
    "    \n",
    "    # test if original value is prime\n",
    "        \n",
    "    for x in range(2, value):\n",
    "        \n",
    "        division = value % x\n",
    "        \n",
    "        mod_indicator = 1 if division == 0 else 0\n",
    "        \n",
    "        mod.append(mod_indicator)\n",
    "        \n",
    "    mod_sum = sum(mod)\n",
    "    \n",
    "    # if original value is not prime, then iterate up until closest next prime number is identified\n",
    "    \n",
    "    value_next = value\n",
    "    value_previous = value\n",
    "    \n",
    "    mod_sum_next = mod_sum\n",
    "    \n",
    "    while mod_sum_next != 0:\n",
    "        \n",
    "        value_next += 1\n",
    "        \n",
    "        mod_next = []\n",
    "        \n",
    "        for x in range(2, value_next):\n",
    "        \n",
    "            division = value_next % x\n",
    "        \n",
    "            mod_indicator = 1 if division == 0 else 0\n",
    "        \n",
    "            mod_next.append(mod_indicator)\n",
    "        \n",
    "        mod_sum_next = sum(mod_next)\n",
    "        \n",
    "    # if original value is not prime, then iterate down until closest previous prime number is identified\n",
    "    \n",
    "    mod_sum_previous = mod_sum\n",
    "    \n",
    "    while mod_sum_previous != 0:\n",
    "        \n",
    "        value_previous -= 1\n",
    "        \n",
    "        mod_previous = []\n",
    "        \n",
    "        for x in range(2, value_previous):\n",
    "        \n",
    "            division = value_previous % x\n",
    "        \n",
    "            mod_indicator = 1 if division == 0 else 0\n",
    "        \n",
    "            mod_previous.append(mod_indicator)\n",
    "        \n",
    "        mod_sum_previous = sum(mod_previous)\n",
    "    \n",
    "    # creating dictionary of prime numbers with original\n",
    "    \n",
    "    output_dict = {'original number' : value, 'next_closest_prime' : value_next, 'previous_closest_prime' : value_previous}\n",
    "    \n",
    "    return output_dict"
   ]
  },
  {
   "cell_type": "code",
   "execution_count": 82,
   "id": "74b48ed2",
   "metadata": {},
   "outputs": [
    {
     "name": "stdout",
     "output_type": "stream",
     "text": [
      "{'original number': 255, 'next_closest_prime': 257, 'previous_closest_prime': 251}\n"
     ]
    }
   ],
   "source": [
    "print(prime_number_finder(255))"
   ]
  },
  {
   "cell_type": "code",
   "execution_count": null,
   "id": "73b83db4",
   "metadata": {},
   "outputs": [],
   "source": []
  }
 ],
 "metadata": {
  "kernelspec": {
   "display_name": "Python 3 (ipykernel)",
   "language": "python",
   "name": "python3"
  },
  "language_info": {
   "codemirror_mode": {
    "name": "ipython",
    "version": 3
   },
   "file_extension": ".py",
   "mimetype": "text/x-python",
   "name": "python",
   "nbconvert_exporter": "python",
   "pygments_lexer": "ipython3",
   "version": "3.11.5"
  }
 },
 "nbformat": 4,
 "nbformat_minor": 5
}
