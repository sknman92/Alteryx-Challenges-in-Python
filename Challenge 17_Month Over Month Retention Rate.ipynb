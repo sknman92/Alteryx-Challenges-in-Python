{
 "cells": [
  {
   "cell_type": "code",
   "execution_count": 1,
   "id": "846cfd30",
   "metadata": {},
   "outputs": [],
   "source": [
    "# importing pandas, numpy, and regex\n",
    "\n",
    "import pandas as pd\n",
    "import numpy as np\n",
    "import re"
   ]
  },
  {
   "cell_type": "code",
   "execution_count": 2,
   "id": "bfb57aff",
   "metadata": {},
   "outputs": [
    {
     "data": {
      "text/html": [
       "<div>\n",
       "<style scoped>\n",
       "    .dataframe tbody tr th:only-of-type {\n",
       "        vertical-align: middle;\n",
       "    }\n",
       "\n",
       "    .dataframe tbody tr th {\n",
       "        vertical-align: top;\n",
       "    }\n",
       "\n",
       "    .dataframe thead th {\n",
       "        text-align: right;\n",
       "    }\n",
       "</style>\n",
       "<table border=\"1\" class=\"dataframe\">\n",
       "  <thead>\n",
       "    <tr style=\"text-align: right;\">\n",
       "      <th></th>\n",
       "      <th>RecordID</th>\n",
       "      <th>Open Date</th>\n",
       "      <th>Close Date</th>\n",
       "    </tr>\n",
       "  </thead>\n",
       "  <tbody>\n",
       "    <tr>\n",
       "      <th>0</th>\n",
       "      <td>1</td>\n",
       "      <td>April 03, 2013</td>\n",
       "      <td>May 06, 2013</td>\n",
       "    </tr>\n",
       "    <tr>\n",
       "      <th>1</th>\n",
       "      <td>2</td>\n",
       "      <td>April 14, 2013</td>\n",
       "      <td>NaN</td>\n",
       "    </tr>\n",
       "    <tr>\n",
       "      <th>2</th>\n",
       "      <td>3</td>\n",
       "      <td>May 03, 2013</td>\n",
       "      <td>July 18, 2013</td>\n",
       "    </tr>\n",
       "    <tr>\n",
       "      <th>3</th>\n",
       "      <td>4</td>\n",
       "      <td>May 24, 2013</td>\n",
       "      <td>June 12, 2013</td>\n",
       "    </tr>\n",
       "    <tr>\n",
       "      <th>4</th>\n",
       "      <td>5</td>\n",
       "      <td>June 13, 2013</td>\n",
       "      <td>July 10, 2013</td>\n",
       "    </tr>\n",
       "  </tbody>\n",
       "</table>\n",
       "</div>"
      ],
      "text/plain": [
       "   RecordID       Open Date     Close Date\n",
       "0         1  April 03, 2013   May 06, 2013\n",
       "1         2  April 14, 2013            NaN\n",
       "2         3    May 03, 2013  July 18, 2013\n",
       "3         4    May 24, 2013  June 12, 2013\n",
       "4         5   June 13, 2013  July 10, 2013"
      ]
     },
     "execution_count": 2,
     "metadata": {},
     "output_type": "execute_result"
    }
   ],
   "source": [
    "# importing data\n",
    "\n",
    "df = pd.read_csv(r'C:\\Users\\CharlesYi\\Jupyter Notebook\\Alteryx Challenges\\Challenge 17_Month-over-Month Retention Rate\\data.csv')\n",
    "\n",
    "df.head()"
   ]
  },
  {
   "cell_type": "code",
   "execution_count": 6,
   "id": "3ecff58d",
   "metadata": {},
   "outputs": [],
   "source": [
    "# creating date range between May - August 2013\n",
    "\n",
    "date_range = pd.date_range(start = '2013-05-01', end = '2013-08-01', freq = 'MS')"
   ]
  },
  {
   "cell_type": "code",
   "execution_count": 7,
   "id": "aee021e8",
   "metadata": {},
   "outputs": [
    {
     "data": {
      "text/plain": [
       "DatetimeIndex(['2013-05-01', '2013-06-01', '2013-07-01', '2013-08-01'], dtype='datetime64[ns]', freq='MS')"
      ]
     },
     "execution_count": 7,
     "metadata": {},
     "output_type": "execute_result"
    }
   ],
   "source": [
    "date_range"
   ]
  },
  {
   "cell_type": "code",
   "execution_count": 16,
   "id": "2007b4ae",
   "metadata": {},
   "outputs": [],
   "source": [
    "# formatting open date\n",
    "\n",
    "df['Open Date'] = pd.to_datetime(df['Open Date'], format = '%B %d, %Y')"
   ]
  },
  {
   "cell_type": "code",
   "execution_count": 18,
   "id": "1a3576d3",
   "metadata": {},
   "outputs": [],
   "source": [
    "# formatting close date\n",
    "\n",
    "df['Close Date'] = pd.to_datetime(df['Close Date'], format = '%B %d, %Y')"
   ]
  },
  {
   "cell_type": "code",
   "execution_count": 19,
   "id": "adec275d",
   "metadata": {},
   "outputs": [
    {
     "data": {
      "text/html": [
       "<div>\n",
       "<style scoped>\n",
       "    .dataframe tbody tr th:only-of-type {\n",
       "        vertical-align: middle;\n",
       "    }\n",
       "\n",
       "    .dataframe tbody tr th {\n",
       "        vertical-align: top;\n",
       "    }\n",
       "\n",
       "    .dataframe thead th {\n",
       "        text-align: right;\n",
       "    }\n",
       "</style>\n",
       "<table border=\"1\" class=\"dataframe\">\n",
       "  <thead>\n",
       "    <tr style=\"text-align: right;\">\n",
       "      <th></th>\n",
       "      <th>RecordID</th>\n",
       "      <th>Open Date</th>\n",
       "      <th>Close Date</th>\n",
       "    </tr>\n",
       "  </thead>\n",
       "  <tbody>\n",
       "    <tr>\n",
       "      <th>0</th>\n",
       "      <td>1</td>\n",
       "      <td>2013-04-03</td>\n",
       "      <td>2013-05-06</td>\n",
       "    </tr>\n",
       "    <tr>\n",
       "      <th>1</th>\n",
       "      <td>2</td>\n",
       "      <td>2013-04-14</td>\n",
       "      <td>NaT</td>\n",
       "    </tr>\n",
       "    <tr>\n",
       "      <th>2</th>\n",
       "      <td>3</td>\n",
       "      <td>2013-05-03</td>\n",
       "      <td>2013-07-18</td>\n",
       "    </tr>\n",
       "    <tr>\n",
       "      <th>3</th>\n",
       "      <td>4</td>\n",
       "      <td>2013-05-24</td>\n",
       "      <td>2013-06-12</td>\n",
       "    </tr>\n",
       "    <tr>\n",
       "      <th>4</th>\n",
       "      <td>5</td>\n",
       "      <td>2013-06-13</td>\n",
       "      <td>2013-07-10</td>\n",
       "    </tr>\n",
       "  </tbody>\n",
       "</table>\n",
       "</div>"
      ],
      "text/plain": [
       "   RecordID  Open Date Close Date\n",
       "0         1 2013-04-03 2013-05-06\n",
       "1         2 2013-04-14        NaT\n",
       "2         3 2013-05-03 2013-07-18\n",
       "3         4 2013-05-24 2013-06-12\n",
       "4         5 2013-06-13 2013-07-10"
      ]
     },
     "execution_count": 19,
     "metadata": {},
     "output_type": "execute_result"
    }
   ],
   "source": [
    "# checking results\n",
    "\n",
    "df.head()"
   ]
  },
  {
   "cell_type": "code",
   "execution_count": 84,
   "id": "f855eece",
   "metadata": {},
   "outputs": [],
   "source": [
    "# creating function to determine number open and closed\n",
    "\n",
    "def open_close (row):\n",
    "    \n",
    "    open_close_list = []\n",
    "    \n",
    "    # calculating closed in month\n",
    "    for x in date_range:\n",
    "        \n",
    "        # setting variables\n",
    "        month_retention = x.strftime('%B')\n",
    "        close_month = row['Close Date'].strftime('%B') if pd.notna(row['Close Date']) else None\n",
    "        \n",
    "        if month_retention == close_month:\n",
    "            open_close_list.append({\"month_retention\" : x, \"number_closed\" : 1})\n",
    "        else:\n",
    "            open_close_list.append({\"month_retention\" : x, \"number_closed\" : 0})\n",
    "        \n",
    "    # calculating open in month    \n",
    "    for x in date_range:\n",
    "        \n",
    "        # setting variables\n",
    "        month_rentention = x.strftime('%B')\n",
    "        previous_month = x - pd.offsets.MonthEnd(1)\n",
    "        previous_24_month = x - pd.DateOffset(years = 2)\n",
    "        open_date = row['Open Date']\n",
    "        close_date = row['Close Date']\n",
    "    \n",
    "        if ( close_date >= previous_month or pd.isna(close_date) ) and open_date >= previous_24_month and open_date < x:\n",
    "            open_close_list.append({\"month_retention\" : x, \"number_open\" : 1})\n",
    "        else:\n",
    "            open_close_list.append({\"month_retention\" : x, \"number_open\" : 0})\n",
    "            \n",
    "    return open_close_list"
   ]
  },
  {
   "cell_type": "code",
   "execution_count": 85,
   "id": "14667c4f",
   "metadata": {},
   "outputs": [
    {
     "data": {
      "text/plain": [
       "0    [{'month_retention': 2013-05-01 00:00:00, 'num...\n",
       "1    [{'month_retention': 2013-05-01 00:00:00, 'num...\n",
       "2    [{'month_retention': 2013-05-01 00:00:00, 'num...\n",
       "3    [{'month_retention': 2013-05-01 00:00:00, 'num...\n",
       "4    [{'month_retention': 2013-05-01 00:00:00, 'num...\n",
       "dtype: object"
      ]
     },
     "execution_count": 85,
     "metadata": {},
     "output_type": "execute_result"
    }
   ],
   "source": [
    "# applying function\n",
    "\n",
    "retention = df.apply(open_close, axis = 1)\n",
    "\n",
    "retention.head()"
   ]
  },
  {
   "cell_type": "code",
   "execution_count": 86,
   "id": "3b4dcc3f",
   "metadata": {},
   "outputs": [
    {
     "data": {
      "text/plain": [
       "0    {'month_retention': 2013-05-01 00:00:00, 'numb...\n",
       "0    {'month_retention': 2013-06-01 00:00:00, 'numb...\n",
       "0    {'month_retention': 2013-07-01 00:00:00, 'numb...\n",
       "0    {'month_retention': 2013-08-01 00:00:00, 'numb...\n",
       "0    {'month_retention': 2013-05-01 00:00:00, 'numb...\n",
       "                           ...                        \n",
       "9    {'month_retention': 2013-08-01 00:00:00, 'numb...\n",
       "9    {'month_retention': 2013-05-01 00:00:00, 'numb...\n",
       "9    {'month_retention': 2013-06-01 00:00:00, 'numb...\n",
       "9    {'month_retention': 2013-07-01 00:00:00, 'numb...\n",
       "9    {'month_retention': 2013-08-01 00:00:00, 'numb...\n",
       "Length: 80, dtype: object"
      ]
     },
     "execution_count": 86,
     "metadata": {},
     "output_type": "execute_result"
    }
   ],
   "source": [
    "# exploding\n",
    "\n",
    "retention_explode = retention.explode()\n",
    "\n",
    "retention_explode"
   ]
  },
  {
   "cell_type": "code",
   "execution_count": 87,
   "id": "e217e62b",
   "metadata": {},
   "outputs": [
    {
     "data": {
      "text/html": [
       "<div>\n",
       "<style scoped>\n",
       "    .dataframe tbody tr th:only-of-type {\n",
       "        vertical-align: middle;\n",
       "    }\n",
       "\n",
       "    .dataframe tbody tr th {\n",
       "        vertical-align: top;\n",
       "    }\n",
       "\n",
       "    .dataframe thead th {\n",
       "        text-align: right;\n",
       "    }\n",
       "</style>\n",
       "<table border=\"1\" class=\"dataframe\">\n",
       "  <thead>\n",
       "    <tr style=\"text-align: right;\">\n",
       "      <th></th>\n",
       "      <th>month_retention</th>\n",
       "      <th>number_closed</th>\n",
       "      <th>number_open</th>\n",
       "    </tr>\n",
       "  </thead>\n",
       "  <tbody>\n",
       "    <tr>\n",
       "      <th>0</th>\n",
       "      <td>2013-05-01</td>\n",
       "      <td>1.0</td>\n",
       "      <td>NaN</td>\n",
       "    </tr>\n",
       "    <tr>\n",
       "      <th>1</th>\n",
       "      <td>2013-06-01</td>\n",
       "      <td>0.0</td>\n",
       "      <td>NaN</td>\n",
       "    </tr>\n",
       "    <tr>\n",
       "      <th>2</th>\n",
       "      <td>2013-07-01</td>\n",
       "      <td>0.0</td>\n",
       "      <td>NaN</td>\n",
       "    </tr>\n",
       "    <tr>\n",
       "      <th>3</th>\n",
       "      <td>2013-08-01</td>\n",
       "      <td>0.0</td>\n",
       "      <td>NaN</td>\n",
       "    </tr>\n",
       "    <tr>\n",
       "      <th>4</th>\n",
       "      <td>2013-05-01</td>\n",
       "      <td>NaN</td>\n",
       "      <td>1.0</td>\n",
       "    </tr>\n",
       "  </tbody>\n",
       "</table>\n",
       "</div>"
      ],
      "text/plain": [
       "  month_retention  number_closed  number_open\n",
       "0      2013-05-01            1.0          NaN\n",
       "1      2013-06-01            0.0          NaN\n",
       "2      2013-07-01            0.0          NaN\n",
       "3      2013-08-01            0.0          NaN\n",
       "4      2013-05-01            NaN          1.0"
      ]
     },
     "execution_count": 87,
     "metadata": {},
     "output_type": "execute_result"
    }
   ],
   "source": [
    "# parsing\n",
    "\n",
    "retention_parsed = pd.json_normalize(retention_explode)\n",
    "\n",
    "retention_parsed.head()"
   ]
  },
  {
   "cell_type": "code",
   "execution_count": 90,
   "id": "f8f3db22",
   "metadata": {},
   "outputs": [
    {
     "data": {
      "text/html": [
       "<div>\n",
       "<style scoped>\n",
       "    .dataframe tbody tr th:only-of-type {\n",
       "        vertical-align: middle;\n",
       "    }\n",
       "\n",
       "    .dataframe tbody tr th {\n",
       "        vertical-align: top;\n",
       "    }\n",
       "\n",
       "    .dataframe thead th {\n",
       "        text-align: right;\n",
       "    }\n",
       "</style>\n",
       "<table border=\"1\" class=\"dataframe\">\n",
       "  <thead>\n",
       "    <tr style=\"text-align: right;\">\n",
       "      <th></th>\n",
       "      <th>Open_Month</th>\n",
       "      <th>Close_Month</th>\n",
       "    </tr>\n",
       "    <tr>\n",
       "      <th>month_retention</th>\n",
       "      <th></th>\n",
       "      <th></th>\n",
       "    </tr>\n",
       "  </thead>\n",
       "  <tbody>\n",
       "    <tr>\n",
       "      <th>2013-05-01</th>\n",
       "      <td>2.0</td>\n",
       "      <td>1.0</td>\n",
       "    </tr>\n",
       "    <tr>\n",
       "      <th>2013-06-01</th>\n",
       "      <td>3.0</td>\n",
       "      <td>1.0</td>\n",
       "    </tr>\n",
       "    <tr>\n",
       "      <th>2013-07-01</th>\n",
       "      <td>4.0</td>\n",
       "      <td>2.0</td>\n",
       "    </tr>\n",
       "    <tr>\n",
       "      <th>2013-08-01</th>\n",
       "      <td>5.0</td>\n",
       "      <td>1.0</td>\n",
       "    </tr>\n",
       "  </tbody>\n",
       "</table>\n",
       "</div>"
      ],
      "text/plain": [
       "                 Open_Month  Close_Month\n",
       "month_retention                         \n",
       "2013-05-01              2.0          1.0\n",
       "2013-06-01              3.0          1.0\n",
       "2013-07-01              4.0          2.0\n",
       "2013-08-01              5.0          1.0"
      ]
     },
     "execution_count": 90,
     "metadata": {},
     "output_type": "execute_result"
    }
   ],
   "source": [
    "# aggregating \n",
    "\n",
    "ret_agg = retention_parsed.groupby('month_retention').agg(Open_Month = ('number_open', 'sum'), Close_Month = ('number_closed', 'sum'))\n",
    "\n",
    "ret_agg"
   ]
  },
  {
   "cell_type": "code",
   "execution_count": 95,
   "id": "65d301d3",
   "metadata": {},
   "outputs": [
    {
     "data": {
      "text/html": [
       "<div>\n",
       "<style scoped>\n",
       "    .dataframe tbody tr th:only-of-type {\n",
       "        vertical-align: middle;\n",
       "    }\n",
       "\n",
       "    .dataframe tbody tr th {\n",
       "        vertical-align: top;\n",
       "    }\n",
       "\n",
       "    .dataframe thead th {\n",
       "        text-align: right;\n",
       "    }\n",
       "</style>\n",
       "<table border=\"1\" class=\"dataframe\">\n",
       "  <thead>\n",
       "    <tr style=\"text-align: right;\">\n",
       "      <th></th>\n",
       "      <th>Open_Month</th>\n",
       "      <th>Close_Month</th>\n",
       "      <th>percentage</th>\n",
       "    </tr>\n",
       "    <tr>\n",
       "      <th>month_retention</th>\n",
       "      <th></th>\n",
       "      <th></th>\n",
       "      <th></th>\n",
       "    </tr>\n",
       "  </thead>\n",
       "  <tbody>\n",
       "    <tr>\n",
       "      <th>2013-05-01</th>\n",
       "      <td>2.0</td>\n",
       "      <td>1.0</td>\n",
       "      <td>50.00</td>\n",
       "    </tr>\n",
       "    <tr>\n",
       "      <th>2013-06-01</th>\n",
       "      <td>3.0</td>\n",
       "      <td>1.0</td>\n",
       "      <td>33.33</td>\n",
       "    </tr>\n",
       "    <tr>\n",
       "      <th>2013-07-01</th>\n",
       "      <td>4.0</td>\n",
       "      <td>2.0</td>\n",
       "      <td>50.00</td>\n",
       "    </tr>\n",
       "    <tr>\n",
       "      <th>2013-08-01</th>\n",
       "      <td>5.0</td>\n",
       "      <td>1.0</td>\n",
       "      <td>20.00</td>\n",
       "    </tr>\n",
       "  </tbody>\n",
       "</table>\n",
       "</div>"
      ],
      "text/plain": [
       "                 Open_Month  Close_Month  percentage\n",
       "month_retention                                     \n",
       "2013-05-01              2.0          1.0       50.00\n",
       "2013-06-01              3.0          1.0       33.33\n",
       "2013-07-01              4.0          2.0       50.00\n",
       "2013-08-01              5.0          1.0       20.00"
      ]
     },
     "execution_count": 95,
     "metadata": {},
     "output_type": "execute_result"
    }
   ],
   "source": [
    "# finding percentage closed/open\n",
    "\n",
    "ret_agg.assign(percentage = round((ret_agg['Close_Month'] / ret_agg['Open_Month'])*100, 2))"
   ]
  },
  {
   "cell_type": "code",
   "execution_count": null,
   "id": "78c757e6",
   "metadata": {},
   "outputs": [],
   "source": []
  }
 ],
 "metadata": {
  "kernelspec": {
   "display_name": "Python 3 (ipykernel)",
   "language": "python",
   "name": "python3"
  },
  "language_info": {
   "codemirror_mode": {
    "name": "ipython",
    "version": 3
   },
   "file_extension": ".py",
   "mimetype": "text/x-python",
   "name": "python",
   "nbconvert_exporter": "python",
   "pygments_lexer": "ipython3",
   "version": "3.11.5"
  }
 },
 "nbformat": 4,
 "nbformat_minor": 5
}
